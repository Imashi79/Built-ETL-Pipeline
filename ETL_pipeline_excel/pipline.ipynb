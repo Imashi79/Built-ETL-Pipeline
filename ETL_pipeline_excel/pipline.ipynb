{
 "cells": [
  {
   "cell_type": "markdown",
   "metadata": {},
   "source": [
    "# Data Pipeline for H+ Sport  \n",
    "\n",
    "## Overview  \n",
    "This notebook demonstrates an **ETL (Extract, Transform, Load) pipeline** for processing business data from an Excel source. The dataset includes customer, employee, and order records. The final step loads the cleaned data into a PostgreSQL database for further analysis.  \n",
    "\n",
    "## Objectives:  \n",
    "- **Extract** data from Excel files.  \n",
    "- **Transform** data (cleaning, formatting, handling missing values).  \n",
    "- **Load** structured data into a PostgreSQL database.  \n",
    "\n",
    "## Technologies Used:  \n",
    "- **Python** (`pandas`, `sqlalchemy`, `psycopg2`)  \n",
    "- **PostgreSQL** (for data storage)  \n",
    "- **Excel** (as the raw data source)  \n",
    "\n",
    "## Expected Outcome:  \n",
    "By the end of this notebook, a structured dataset will be available in PostgreSQL, ready for querying and analysis.  \n"
   ]
  },
  {
   "cell_type": "code",
   "execution_count": null,
   "metadata": {},
   "outputs": [],
   "source": [
    "# Import Libraries\n",
    "\n",
    "import pandas as pd # For data Extract/transformation/manipulation/wrangling/analysis, etc\n",
    "import psycopg2 # For Connecting Python to Postgresql database\n",
    "from sqlalchemy import create_engine # To efficiently manage and reuse the database connections"
   ]
  },
  {
   "cell_type": "markdown",
   "metadata": {},
   "source": [
    "### Step 1: Extract data from the Excel file into a Pandas Dataframe"
   ]
  },
  {
   "cell_type": "code",
   "execution_count": 57,
   "metadata": {},
   "outputs": [
    {
     "data": {
      "text/html": [
       "<div>\n",
       "<style scoped>\n",
       "    .dataframe tbody tr th:only-of-type {\n",
       "        vertical-align: middle;\n",
       "    }\n",
       "\n",
       "    .dataframe tbody tr th {\n",
       "        vertical-align: top;\n",
       "    }\n",
       "\n",
       "    .dataframe thead th {\n",
       "        text-align: right;\n",
       "    }\n",
       "</style>\n",
       "<table border=\"1\" class=\"dataframe\">\n",
       "  <thead>\n",
       "    <tr style=\"text-align: right;\">\n",
       "      <th></th>\n",
       "      <th>CustomerID</th>\n",
       "      <th>FirstName</th>\n",
       "      <th>LastName</th>\n",
       "      <th>Email</th>\n",
       "      <th>Phone</th>\n",
       "      <th>Address</th>\n",
       "      <th>City</th>\n",
       "      <th>State</th>\n",
       "      <th>Zipcode</th>\n",
       "    </tr>\n",
       "  </thead>\n",
       "  <tbody>\n",
       "    <tr>\n",
       "      <th>0</th>\n",
       "      <td>100</td>\n",
       "      <td>Carol</td>\n",
       "      <td>Shaw</td>\n",
       "      <td>cshaw0@mlb.com</td>\n",
       "      <td>(206)804-8771</td>\n",
       "      <td>8157 Longview Court</td>\n",
       "      <td>Seattle</td>\n",
       "      <td>WA</td>\n",
       "      <td>98121</td>\n",
       "    </tr>\n",
       "    <tr>\n",
       "      <th>1</th>\n",
       "      <td>101</td>\n",
       "      <td>Elizabeth</td>\n",
       "      <td>Carr</td>\n",
       "      <td>ecarr1@oracle.com</td>\n",
       "      <td>(512)187-2507</td>\n",
       "      <td>3934 Petterle Trail</td>\n",
       "      <td>Austin</td>\n",
       "      <td>TX</td>\n",
       "      <td>78732</td>\n",
       "    </tr>\n",
       "    <tr>\n",
       "      <th>2</th>\n",
       "      <td>102</td>\n",
       "      <td>Ernest</td>\n",
       "      <td>Ramos</td>\n",
       "      <td>eramos2@plala.or.jp</td>\n",
       "      <td>(816)540-4257</td>\n",
       "      <td>8699 Clarendon Terrace</td>\n",
       "      <td>Kansas City</td>\n",
       "      <td>MO</td>\n",
       "      <td>64199</td>\n",
       "    </tr>\n",
       "    <tr>\n",
       "      <th>3</th>\n",
       "      <td>103</td>\n",
       "      <td>Jane</td>\n",
       "      <td>Carter</td>\n",
       "      <td>jcarter3@harvard.edu</td>\n",
       "      <td>(214)839-0542</td>\n",
       "      <td>2830 Novick Lane</td>\n",
       "      <td>Irving</td>\n",
       "      <td>TX</td>\n",
       "      <td>75037</td>\n",
       "    </tr>\n",
       "    <tr>\n",
       "      <th>4</th>\n",
       "      <td>104</td>\n",
       "      <td>Martha</td>\n",
       "      <td>Cooper</td>\n",
       "      <td>mcooper4@go.com</td>\n",
       "      <td>(727)235-5696</td>\n",
       "      <td>4537 Hoard Lane</td>\n",
       "      <td>Tampa</td>\n",
       "      <td>FL</td>\n",
       "      <td>33625</td>\n",
       "    </tr>\n",
       "  </tbody>\n",
       "</table>\n",
       "</div>"
      ],
      "text/plain": [
       "   CustomerID  FirstName LastName                 Email          Phone  \\\n",
       "0         100      Carol     Shaw        cshaw0@mlb.com  (206)804-8771   \n",
       "1         101  Elizabeth     Carr     ecarr1@oracle.com  (512)187-2507   \n",
       "2         102     Ernest    Ramos   eramos2@plala.or.jp  (816)540-4257   \n",
       "3         103       Jane   Carter  jcarter3@harvard.edu  (214)839-0542   \n",
       "4         104     Martha   Cooper       mcooper4@go.com  (727)235-5696   \n",
       "\n",
       "                  Address         City State  Zipcode  \n",
       "0     8157 Longview Court      Seattle    WA    98121  \n",
       "1     3934 Petterle Trail       Austin    TX    78732  \n",
       "2  8699 Clarendon Terrace  Kansas City    MO    64199  \n",
       "3        2830 Novick Lane       Irving    TX    75037  \n",
       "4         4537 Hoard Lane        Tampa    FL    33625  "
      ]
     },
     "execution_count": 57,
     "metadata": {},
     "output_type": "execute_result"
    }
   ],
   "source": [
    "#read to customer excel file\n",
    "customer = pd.read_excel(\"H+ Sport Customers.xlsx\", sheet_name= 'data')\n",
    "customer.head() # first five rows"
   ]
  },
  {
   "cell_type": "code",
   "execution_count": 107,
   "metadata": {},
   "outputs": [
    {
     "data": {
      "text/html": [
       "<div>\n",
       "<style scoped>\n",
       "    .dataframe tbody tr th:only-of-type {\n",
       "        vertical-align: middle;\n",
       "    }\n",
       "\n",
       "    .dataframe tbody tr th {\n",
       "        vertical-align: top;\n",
       "    }\n",
       "\n",
       "    .dataframe thead th {\n",
       "        text-align: right;\n",
       "    }\n",
       "</style>\n",
       "<table border=\"1\" class=\"dataframe\">\n",
       "  <thead>\n",
       "    <tr style=\"text-align: right;\">\n",
       "      <th></th>\n",
       "      <th>Employee Name</th>\n",
       "      <th>Building</th>\n",
       "      <th>Department</th>\n",
       "      <th>Status</th>\n",
       "      <th>Hire Date</th>\n",
       "      <th>Month</th>\n",
       "      <th>Years</th>\n",
       "      <th>Benefits</th>\n",
       "      <th>Salary</th>\n",
       "      <th>Job Rating</th>\n",
       "      <th>New Salary</th>\n",
       "      <th>Tax Rate</th>\n",
       "      <th>2.91%</th>\n",
       "    </tr>\n",
       "  </thead>\n",
       "  <tbody>\n",
       "    <tr>\n",
       "      <th>0</th>\n",
       "      <td>Page, Lisa</td>\n",
       "      <td>West</td>\n",
       "      <td>ADC</td>\n",
       "      <td>Full Time</td>\n",
       "      <td>1999-01-11</td>\n",
       "      <td>Jan</td>\n",
       "      <td>25</td>\n",
       "      <td>DMR</td>\n",
       "      <td>24550</td>\n",
       "      <td>1</td>\n",
       "      <td>NaN</td>\n",
       "      <td>NaN</td>\n",
       "      <td>NaN</td>\n",
       "    </tr>\n",
       "    <tr>\n",
       "      <th>1</th>\n",
       "      <td>Taylor, Hector</td>\n",
       "      <td>West</td>\n",
       "      <td>ADC</td>\n",
       "      <td>Half-Time</td>\n",
       "      <td>2011-02-21</td>\n",
       "      <td>Feb</td>\n",
       "      <td>13</td>\n",
       "      <td>DM</td>\n",
       "      <td>26795</td>\n",
       "      <td>4</td>\n",
       "      <td>NaN</td>\n",
       "      <td>NaN</td>\n",
       "      <td>NaN</td>\n",
       "    </tr>\n",
       "    <tr>\n",
       "      <th>2</th>\n",
       "      <td>Dawson, Jonathan</td>\n",
       "      <td>West</td>\n",
       "      <td>ADC</td>\n",
       "      <td>Contract</td>\n",
       "      <td>2007-03-06</td>\n",
       "      <td>Mar</td>\n",
       "      <td>17</td>\n",
       "      <td>NaN</td>\n",
       "      <td>42540</td>\n",
       "      <td>5</td>\n",
       "      <td>NaN</td>\n",
       "      <td>NaN</td>\n",
       "      <td>NaN</td>\n",
       "    </tr>\n",
       "    <tr>\n",
       "      <th>3</th>\n",
       "      <td>Duran, Brian</td>\n",
       "      <td>Taft</td>\n",
       "      <td>ADC</td>\n",
       "      <td>Hourly</td>\n",
       "      <td>2012-08-30</td>\n",
       "      <td>Aug</td>\n",
       "      <td>12</td>\n",
       "      <td>NaN</td>\n",
       "      <td>35680</td>\n",
       "      <td>2</td>\n",
       "      <td>NaN</td>\n",
       "      <td>NaN</td>\n",
       "      <td>NaN</td>\n",
       "    </tr>\n",
       "    <tr>\n",
       "      <th>4</th>\n",
       "      <td>Weber, Larry</td>\n",
       "      <td>Watson</td>\n",
       "      <td>ADC</td>\n",
       "      <td>Full Time</td>\n",
       "      <td>2007-12-31</td>\n",
       "      <td>Dec</td>\n",
       "      <td>17</td>\n",
       "      <td>M</td>\n",
       "      <td>72830</td>\n",
       "      <td>2</td>\n",
       "      <td>NaN</td>\n",
       "      <td>NaN</td>\n",
       "      <td>NaN</td>\n",
       "    </tr>\n",
       "  </tbody>\n",
       "</table>\n",
       "</div>"
      ],
      "text/plain": [
       "      Employee Name Building Department     Status  Hire Date Month  Years  \\\n",
       "0        Page, Lisa     West        ADC  Full Time 1999-01-11   Jan     25   \n",
       "1    Taylor, Hector     West        ADC  Half-Time 2011-02-21   Feb     13   \n",
       "2  Dawson, Jonathan     West        ADC   Contract 2007-03-06   Mar     17   \n",
       "3      Duran, Brian     Taft        ADC     Hourly 2012-08-30   Aug     12   \n",
       "4      Weber, Larry   Watson        ADC  Full Time 2007-12-31   Dec     17   \n",
       "\n",
       "  Benefits  Salary  Job Rating  New Salary  Tax Rate  2.91%  \n",
       "0      DMR   24550           1         NaN       NaN    NaN  \n",
       "1       DM   26795           4         NaN       NaN    NaN  \n",
       "2      NaN   42540           5         NaN       NaN    NaN  \n",
       "3      NaN   35680           2         NaN       NaN    NaN  \n",
       "4        M   72830           2         NaN       NaN    NaN  "
      ]
     },
     "execution_count": 107,
     "metadata": {},
     "output_type": "execute_result"
    }
   ],
   "source": [
    "# read to Employee excel sheet \n",
    "employee = pd .read_excel(\"H+ Sport Employees.xlsx\", sheet_name = 'Employees-Table')\n",
    "employee.head() # first five rows"
   ]
  },
  {
   "cell_type": "code",
   "execution_count": 122,
   "metadata": {},
   "outputs": [
    {
     "data": {
      "text/html": [
       "<div>\n",
       "<style scoped>\n",
       "    .dataframe tbody tr th:only-of-type {\n",
       "        vertical-align: middle;\n",
       "    }\n",
       "\n",
       "    .dataframe tbody tr th {\n",
       "        vertical-align: top;\n",
       "    }\n",
       "\n",
       "    .dataframe thead th {\n",
       "        text-align: right;\n",
       "    }\n",
       "</style>\n",
       "<table border=\"1\" class=\"dataframe\">\n",
       "  <thead>\n",
       "    <tr style=\"text-align: right;\">\n",
       "      <th></th>\n",
       "      <th>OrderID</th>\n",
       "      <th>Date</th>\n",
       "      <th>TotalDue</th>\n",
       "      <th>Status</th>\n",
       "      <th>CustomerID</th>\n",
       "      <th>SalespersonID</th>\n",
       "      <th>CustomersComment</th>\n",
       "      <th>SalespersonsComment</th>\n",
       "    </tr>\n",
       "  </thead>\n",
       "  <tbody>\n",
       "    <tr>\n",
       "      <th>0</th>\n",
       "      <td>1000</td>\n",
       "      <td>05/14/2016</td>\n",
       "      <td>$140.91</td>\n",
       "      <td>paid</td>\n",
       "      <td>413</td>\n",
       "      <td>130</td>\n",
       "      <td>NaN</td>\n",
       "      <td>NaN</td>\n",
       "    </tr>\n",
       "    <tr>\n",
       "      <th>1</th>\n",
       "      <td>1001</td>\n",
       "      <td>07/31/2016</td>\n",
       "      <td>$105.32</td>\n",
       "      <td>returned</td>\n",
       "      <td>128</td>\n",
       "      <td>102</td>\n",
       "      <td>NaN</td>\n",
       "      <td>NaN</td>\n",
       "    </tr>\n",
       "    <tr>\n",
       "      <th>2</th>\n",
       "      <td>1002</td>\n",
       "      <td>07/09/2016</td>\n",
       "      <td>$217.30</td>\n",
       "      <td>past due</td>\n",
       "      <td>791</td>\n",
       "      <td>115</td>\n",
       "      <td>NaN</td>\n",
       "      <td>NaN</td>\n",
       "    </tr>\n",
       "    <tr>\n",
       "      <th>3</th>\n",
       "      <td>1003</td>\n",
       "      <td>04/04/2016</td>\n",
       "      <td>$281.39</td>\n",
       "      <td>paid</td>\n",
       "      <td>974</td>\n",
       "      <td>139</td>\n",
       "      <td>NaN</td>\n",
       "      <td>NaN</td>\n",
       "    </tr>\n",
       "    <tr>\n",
       "      <th>4</th>\n",
       "      <td>1004</td>\n",
       "      <td>02/16/2016</td>\n",
       "      <td>$254.76</td>\n",
       "      <td>paid</td>\n",
       "      <td>866</td>\n",
       "      <td>102</td>\n",
       "      <td>NaN</td>\n",
       "      <td>NaN</td>\n",
       "    </tr>\n",
       "  </tbody>\n",
       "</table>\n",
       "</div>"
      ],
      "text/plain": [
       "   OrderID        Date TotalDue    Status  CustomerID  SalespersonID  \\\n",
       "0     1000  05/14/2016  $140.91      paid         413            130   \n",
       "1     1001  07/31/2016  $105.32  returned         128            102   \n",
       "2     1002  07/09/2016  $217.30  past due         791            115   \n",
       "3     1003  04/04/2016  $281.39      paid         974            139   \n",
       "4     1004  02/16/2016  $254.76      paid         866            102   \n",
       "\n",
       "   CustomersComment  SalespersonsComment  \n",
       "0               NaN                  NaN  \n",
       "1               NaN                  NaN  \n",
       "2               NaN                  NaN  \n",
       "3               NaN                  NaN  \n",
       "4               NaN                  NaN  "
      ]
     },
     "execution_count": 122,
     "metadata": {},
     "output_type": "execute_result"
    }
   ],
   "source": [
    "# read to orders excel file\n",
    "order = pd.read_excel(\"H+ Sport Orders.xlsx\", sheet_name='data')\n",
    "order.head()# first five rows"
   ]
  },
  {
   "cell_type": "markdown",
   "metadata": {},
   "source": [
    "### Step 2: Transform the data(i.e clean the data) - Deal with missing and duplicate data"
   ]
  },
  {
   "cell_type": "markdown",
   "metadata": {},
   "source": [
    "#### Customer"
   ]
  },
  {
   "cell_type": "code",
   "execution_count": 60,
   "metadata": {},
   "outputs": [
    {
     "name": "stdout",
     "output_type": "stream",
     "text": [
      "Empty DataFrame\n",
      "Columns: [CustomerID, FirstName, LastName, Email, Phone, Address, City, State, Zipcode]\n",
      "Index: []\n"
     ]
    }
   ],
   "source": [
    "# customer : identify rows where one or more fields (using Email or Phone) are duplicated.\n",
    "columns_to_check = ['Email', 'Phone']\n",
    "duplicates_cus = customer[customer.duplicated(columns_to_check)] # check duplictes according to 'Email', 'Phone'columns\n",
    "print(duplicates_cus)"
   ]
  },
  {
   "cell_type": "code",
   "execution_count": 61,
   "metadata": {},
   "outputs": [
    {
     "data": {
      "text/plain": [
       "(0, 9)"
      ]
     },
     "execution_count": 61,
     "metadata": {},
     "output_type": "execute_result"
    }
   ],
   "source": [
    "duplicates_cus.shape"
   ]
  },
  {
   "cell_type": "code",
   "execution_count": 62,
   "metadata": {},
   "outputs": [],
   "source": [
    "customer = customer.drop_duplicates(columns_to_check, keep = 'first') # drop duplicates keeping first one\n",
    "customer.to_excel('H+ Sport Customers.xlsx',sheet_name='data', index=False) # save in original file"
   ]
  },
  {
   "cell_type": "code",
   "execution_count": 63,
   "metadata": {},
   "outputs": [
    {
     "name": "stdout",
     "output_type": "stream",
     "text": [
      "Empty DataFrame\n",
      "Columns: [CustomerID, FirstName, LastName, Email, Phone, Address, City, State, Zipcode]\n",
      "Index: []\n"
     ]
    }
   ],
   "source": [
    "columns_to_check = ['Email', 'Phone']\n",
    "duplicates_cus = customer[customer.duplicated(columns_to_check)] # check duplictes according to 'Email', 'Phone'columns\n",
    "print(duplicates_cus)"
   ]
  },
  {
   "cell_type": "code",
   "execution_count": 64,
   "metadata": {},
   "outputs": [
    {
     "data": {
      "text/plain": [
       "CustomerID    0\n",
       "FirstName     0\n",
       "LastName      0\n",
       "Email         0\n",
       "Phone         0\n",
       "Address       0\n",
       "City          0\n",
       "State         0\n",
       "Zipcode       0\n",
       "dtype: int64"
      ]
     },
     "execution_count": 64,
     "metadata": {},
     "output_type": "execute_result"
    }
   ],
   "source": [
    "# check missing values -cutomers\n",
    "customer.isnull().sum()"
   ]
  },
  {
   "cell_type": "markdown",
   "metadata": {},
   "source": [
    "#### Employee"
   ]
  },
  {
   "cell_type": "code",
   "execution_count": 108,
   "metadata": {},
   "outputs": [
    {
     "data": {
      "text/plain": [
       "(741, 13)"
      ]
     },
     "execution_count": 108,
     "metadata": {},
     "output_type": "execute_result"
    }
   ],
   "source": [
    "# find Employee size\n",
    "employee.shape"
   ]
  },
  {
   "cell_type": "code",
   "execution_count": 109,
   "metadata": {},
   "outputs": [
    {
     "data": {
      "text/plain": [
       "np.int64(0)"
      ]
     },
     "execution_count": 109,
     "metadata": {},
     "output_type": "execute_result"
    }
   ],
   "source": [
    "# Employees \n",
    "employee.duplicated().sum() # check duplicates"
   ]
  },
  {
   "cell_type": "code",
   "execution_count": 110,
   "metadata": {},
   "outputs": [],
   "source": [
    "employee = employee.drop_duplicates(keep='first') # drop duplicates"
   ]
  },
  {
   "cell_type": "code",
   "execution_count": 111,
   "metadata": {},
   "outputs": [
    {
     "data": {
      "text/plain": [
       "np.int64(0)"
      ]
     },
     "execution_count": 111,
     "metadata": {},
     "output_type": "execute_result"
    }
   ],
   "source": [
    "employee.duplicated().sum() # check duplicates"
   ]
  },
  {
   "cell_type": "code",
   "execution_count": 112,
   "metadata": {},
   "outputs": [
    {
     "data": {
      "text/plain": [
       "Employee Name      0\n",
       "Building           0\n",
       "Department         0\n",
       "Status             0\n",
       "Hire Date          0\n",
       "Month              0\n",
       "Years              0\n",
       "Benefits         247\n",
       "Salary             0\n",
       "Job Rating         0\n",
       "New Salary       741\n",
       "Tax Rate         741\n",
       "2.91%            741\n",
       "dtype: int64"
      ]
     },
     "execution_count": 112,
     "metadata": {},
     "output_type": "execute_result"
    }
   ],
   "source": [
    "employee.isnull().sum()"
   ]
  },
  {
   "cell_type": "code",
   "execution_count": 113,
   "metadata": {},
   "outputs": [
    {
     "data": {
      "text/plain": [
       "Employee Name    False\n",
       "Building         False\n",
       "Department       False\n",
       "Status           False\n",
       "Hire Date        False\n",
       "Month            False\n",
       "Years            False\n",
       "Benefits         False\n",
       "Salary           False\n",
       "Job Rating       False\n",
       "New Salary        True\n",
       "Tax Rate          True\n",
       "2.91%             True\n",
       "dtype: bool"
      ]
     },
     "execution_count": 113,
     "metadata": {},
     "output_type": "execute_result"
    }
   ],
   "source": [
    "employee.isnull().all() # find empty colums"
   ]
  },
  {
   "cell_type": "code",
   "execution_count": 114,
   "metadata": {},
   "outputs": [
    {
     "data": {
      "text/plain": [
       "Index(['Employee Name', 'Building', 'Department', 'Status', 'Hire Date',\n",
       "       'Month', 'Years', 'Benefits', 'Salary', 'Job Rating', 'New Salary',\n",
       "       'Tax Rate', '2.91%'],\n",
       "      dtype='object')"
      ]
     },
     "execution_count": 114,
     "metadata": {},
     "output_type": "execute_result"
    }
   ],
   "source": [
    "employee.columns"
   ]
  },
  {
   "cell_type": "code",
   "execution_count": 115,
   "metadata": {},
   "outputs": [],
   "source": [
    "# remove empty columns\n",
    "columns_remove = ['New Salary','Tax Rate', '2.91%','Job Rating']\n",
    "employee = employee.drop(columns=columns_remove)\n"
   ]
  },
  {
   "cell_type": "code",
   "execution_count": 116,
   "metadata": {},
   "outputs": [
    {
     "data": {
      "text/plain": [
       "Index(['Employee Name', 'Building', 'Department', 'Status', 'Hire Date',\n",
       "       'Month', 'Years', 'Benefits', 'Salary'],\n",
       "      dtype='object')"
      ]
     },
     "execution_count": 116,
     "metadata": {},
     "output_type": "execute_result"
    }
   ],
   "source": [
    "employee.columns"
   ]
  },
  {
   "cell_type": "code",
   "execution_count": 117,
   "metadata": {},
   "outputs": [
    {
     "data": {
      "text/html": [
       "<div>\n",
       "<style scoped>\n",
       "    .dataframe tbody tr th:only-of-type {\n",
       "        vertical-align: middle;\n",
       "    }\n",
       "\n",
       "    .dataframe tbody tr th {\n",
       "        vertical-align: top;\n",
       "    }\n",
       "\n",
       "    .dataframe thead th {\n",
       "        text-align: right;\n",
       "    }\n",
       "</style>\n",
       "<table border=\"1\" class=\"dataframe\">\n",
       "  <thead>\n",
       "    <tr style=\"text-align: right;\">\n",
       "      <th></th>\n",
       "      <th>Employee Name</th>\n",
       "      <th>Building</th>\n",
       "      <th>Department</th>\n",
       "      <th>Status</th>\n",
       "      <th>Hire Date</th>\n",
       "      <th>Month</th>\n",
       "      <th>Years</th>\n",
       "      <th>Benefits</th>\n",
       "      <th>Salary</th>\n",
       "    </tr>\n",
       "  </thead>\n",
       "  <tbody>\n",
       "    <tr>\n",
       "      <th>0</th>\n",
       "      <td>Page, Lisa</td>\n",
       "      <td>West</td>\n",
       "      <td>ADC</td>\n",
       "      <td>Full Time</td>\n",
       "      <td>1999-01-11</td>\n",
       "      <td>Jan</td>\n",
       "      <td>25</td>\n",
       "      <td>DMR</td>\n",
       "      <td>24550</td>\n",
       "    </tr>\n",
       "    <tr>\n",
       "      <th>1</th>\n",
       "      <td>Taylor, Hector</td>\n",
       "      <td>West</td>\n",
       "      <td>ADC</td>\n",
       "      <td>Half-Time</td>\n",
       "      <td>2011-02-21</td>\n",
       "      <td>Feb</td>\n",
       "      <td>13</td>\n",
       "      <td>DM</td>\n",
       "      <td>26795</td>\n",
       "    </tr>\n",
       "    <tr>\n",
       "      <th>2</th>\n",
       "      <td>Dawson, Jonathan</td>\n",
       "      <td>West</td>\n",
       "      <td>ADC</td>\n",
       "      <td>Contract</td>\n",
       "      <td>2007-03-06</td>\n",
       "      <td>Mar</td>\n",
       "      <td>17</td>\n",
       "      <td>NaN</td>\n",
       "      <td>42540</td>\n",
       "    </tr>\n",
       "    <tr>\n",
       "      <th>3</th>\n",
       "      <td>Duran, Brian</td>\n",
       "      <td>Taft</td>\n",
       "      <td>ADC</td>\n",
       "      <td>Hourly</td>\n",
       "      <td>2012-08-30</td>\n",
       "      <td>Aug</td>\n",
       "      <td>12</td>\n",
       "      <td>NaN</td>\n",
       "      <td>35680</td>\n",
       "    </tr>\n",
       "    <tr>\n",
       "      <th>4</th>\n",
       "      <td>Weber, Larry</td>\n",
       "      <td>Watson</td>\n",
       "      <td>ADC</td>\n",
       "      <td>Full Time</td>\n",
       "      <td>2007-12-31</td>\n",
       "      <td>Dec</td>\n",
       "      <td>17</td>\n",
       "      <td>M</td>\n",
       "      <td>72830</td>\n",
       "    </tr>\n",
       "  </tbody>\n",
       "</table>\n",
       "</div>"
      ],
      "text/plain": [
       "      Employee Name Building Department     Status  Hire Date Month  Years  \\\n",
       "0        Page, Lisa     West        ADC  Full Time 1999-01-11   Jan     25   \n",
       "1    Taylor, Hector     West        ADC  Half-Time 2011-02-21   Feb     13   \n",
       "2  Dawson, Jonathan     West        ADC   Contract 2007-03-06   Mar     17   \n",
       "3      Duran, Brian     Taft        ADC     Hourly 2012-08-30   Aug     12   \n",
       "4      Weber, Larry   Watson        ADC  Full Time 2007-12-31   Dec     17   \n",
       "\n",
       "  Benefits  Salary  \n",
       "0      DMR   24550  \n",
       "1       DM   26795  \n",
       "2      NaN   42540  \n",
       "3      NaN   35680  \n",
       "4        M   72830  "
      ]
     },
     "execution_count": 117,
     "metadata": {},
     "output_type": "execute_result"
    }
   ],
   "source": [
    "# Employee - dealing with missing values\n",
    "employee.head()"
   ]
  },
  {
   "cell_type": "code",
   "execution_count": 118,
   "metadata": {},
   "outputs": [
    {
     "data": {
      "text/html": [
       "<div>\n",
       "<style scoped>\n",
       "    .dataframe tbody tr th:only-of-type {\n",
       "        vertical-align: middle;\n",
       "    }\n",
       "\n",
       "    .dataframe tbody tr th {\n",
       "        vertical-align: top;\n",
       "    }\n",
       "\n",
       "    .dataframe thead th {\n",
       "        text-align: right;\n",
       "    }\n",
       "</style>\n",
       "<table border=\"1\" class=\"dataframe\">\n",
       "  <thead>\n",
       "    <tr style=\"text-align: right;\">\n",
       "      <th></th>\n",
       "      <th>Employee Name</th>\n",
       "      <th>Building</th>\n",
       "      <th>Department</th>\n",
       "      <th>Status</th>\n",
       "      <th>Hire Date</th>\n",
       "      <th>Month</th>\n",
       "      <th>Years</th>\n",
       "      <th>Benefits</th>\n",
       "      <th>Salary</th>\n",
       "    </tr>\n",
       "  </thead>\n",
       "  <tbody>\n",
       "    <tr>\n",
       "      <th>0</th>\n",
       "      <td>Page, Lisa</td>\n",
       "      <td>West</td>\n",
       "      <td>ADC</td>\n",
       "      <td>Full Time</td>\n",
       "      <td>1999-01-11</td>\n",
       "      <td>Jan</td>\n",
       "      <td>25</td>\n",
       "      <td>DMR</td>\n",
       "      <td>24550</td>\n",
       "    </tr>\n",
       "    <tr>\n",
       "      <th>1</th>\n",
       "      <td>Taylor, Hector</td>\n",
       "      <td>West</td>\n",
       "      <td>ADC</td>\n",
       "      <td>Half-Time</td>\n",
       "      <td>2011-02-21</td>\n",
       "      <td>Feb</td>\n",
       "      <td>13</td>\n",
       "      <td>DM</td>\n",
       "      <td>26795</td>\n",
       "    </tr>\n",
       "    <tr>\n",
       "      <th>2</th>\n",
       "      <td>Dawson, Jonathan</td>\n",
       "      <td>West</td>\n",
       "      <td>ADC</td>\n",
       "      <td>Contract</td>\n",
       "      <td>2007-03-06</td>\n",
       "      <td>Mar</td>\n",
       "      <td>17</td>\n",
       "      <td>Unknown</td>\n",
       "      <td>42540</td>\n",
       "    </tr>\n",
       "    <tr>\n",
       "      <th>3</th>\n",
       "      <td>Duran, Brian</td>\n",
       "      <td>Taft</td>\n",
       "      <td>ADC</td>\n",
       "      <td>Hourly</td>\n",
       "      <td>2012-08-30</td>\n",
       "      <td>Aug</td>\n",
       "      <td>12</td>\n",
       "      <td>Unknown</td>\n",
       "      <td>35680</td>\n",
       "    </tr>\n",
       "    <tr>\n",
       "      <th>4</th>\n",
       "      <td>Weber, Larry</td>\n",
       "      <td>Watson</td>\n",
       "      <td>ADC</td>\n",
       "      <td>Full Time</td>\n",
       "      <td>2007-12-31</td>\n",
       "      <td>Dec</td>\n",
       "      <td>17</td>\n",
       "      <td>M</td>\n",
       "      <td>72830</td>\n",
       "    </tr>\n",
       "  </tbody>\n",
       "</table>\n",
       "</div>"
      ],
      "text/plain": [
       "      Employee Name Building Department     Status  Hire Date Month  Years  \\\n",
       "0        Page, Lisa     West        ADC  Full Time 1999-01-11   Jan     25   \n",
       "1    Taylor, Hector     West        ADC  Half-Time 2011-02-21   Feb     13   \n",
       "2  Dawson, Jonathan     West        ADC   Contract 2007-03-06   Mar     17   \n",
       "3      Duran, Brian     Taft        ADC     Hourly 2012-08-30   Aug     12   \n",
       "4      Weber, Larry   Watson        ADC  Full Time 2007-12-31   Dec     17   \n",
       "\n",
       "  Benefits  Salary  \n",
       "0      DMR   24550  \n",
       "1       DM   26795  \n",
       "2  Unknown   42540  \n",
       "3  Unknown   35680  \n",
       "4        M   72830  "
      ]
     },
     "execution_count": 118,
     "metadata": {},
     "output_type": "execute_result"
    }
   ],
   "source": [
    "employee['Benefits']= employee['Benefits'].fillna('Unknown') # replace missing values is unkown\n",
    "employee.head()"
   ]
  },
  {
   "cell_type": "code",
   "execution_count": 119,
   "metadata": {},
   "outputs": [
    {
     "data": {
      "text/plain": [
       "Employee Name    0\n",
       "Building         0\n",
       "Department       0\n",
       "Status           0\n",
       "Hire Date        0\n",
       "Month            0\n",
       "Years            0\n",
       "Benefits         0\n",
       "Salary           0\n",
       "dtype: int64"
      ]
     },
     "execution_count": 119,
     "metadata": {},
     "output_type": "execute_result"
    }
   ],
   "source": [
    "employee.isnull().sum()"
   ]
  },
  {
   "cell_type": "code",
   "execution_count": 120,
   "metadata": {},
   "outputs": [],
   "source": [
    "employee.to_excel(\"H+ Sport Employees.xlsx\", sheet_name=\"Employees-Table\", index=False) # save on original file"
   ]
  },
  {
   "cell_type": "markdown",
   "metadata": {},
   "source": [
    "#### Orders"
   ]
  },
  {
   "cell_type": "code",
   "execution_count": 125,
   "metadata": {},
   "outputs": [
    {
     "data": {
      "text/html": [
       "<div>\n",
       "<style scoped>\n",
       "    .dataframe tbody tr th:only-of-type {\n",
       "        vertical-align: middle;\n",
       "    }\n",
       "\n",
       "    .dataframe tbody tr th {\n",
       "        vertical-align: top;\n",
       "    }\n",
       "\n",
       "    .dataframe thead th {\n",
       "        text-align: right;\n",
       "    }\n",
       "</style>\n",
       "<table border=\"1\" class=\"dataframe\">\n",
       "  <thead>\n",
       "    <tr style=\"text-align: right;\">\n",
       "      <th></th>\n",
       "      <th>OrderID</th>\n",
       "      <th>Date</th>\n",
       "      <th>TotalDue</th>\n",
       "      <th>Status</th>\n",
       "      <th>CustomerID</th>\n",
       "      <th>SalespersonID</th>\n",
       "      <th>CustomersComment</th>\n",
       "      <th>SalespersonsComment</th>\n",
       "    </tr>\n",
       "  </thead>\n",
       "  <tbody>\n",
       "    <tr>\n",
       "      <th>138</th>\n",
       "      <td>1105</td>\n",
       "      <td>05/10/2016</td>\n",
       "      <td>$158.59</td>\n",
       "      <td>paid</td>\n",
       "      <td>666</td>\n",
       "      <td>147</td>\n",
       "      <td>NaN</td>\n",
       "      <td>NaN</td>\n",
       "    </tr>\n",
       "    <tr>\n",
       "      <th>139</th>\n",
       "      <td>1106</td>\n",
       "      <td>05/23/2016</td>\n",
       "      <td>$267.98</td>\n",
       "      <td>paid</td>\n",
       "      <td>743</td>\n",
       "      <td>119</td>\n",
       "      <td>NaN</td>\n",
       "      <td>NaN</td>\n",
       "    </tr>\n",
       "    <tr>\n",
       "      <th>140</th>\n",
       "      <td>1107</td>\n",
       "      <td>07/25/2015</td>\n",
       "      <td>$332.55</td>\n",
       "      <td>paid</td>\n",
       "      <td>949</td>\n",
       "      <td>115</td>\n",
       "      <td>NaN</td>\n",
       "      <td>NaN</td>\n",
       "    </tr>\n",
       "    <tr>\n",
       "      <th>141</th>\n",
       "      <td>1108</td>\n",
       "      <td>11/19/2015</td>\n",
       "      <td>$215.83</td>\n",
       "      <td>paid</td>\n",
       "      <td>758</td>\n",
       "      <td>139</td>\n",
       "      <td>NaN</td>\n",
       "      <td>NaN</td>\n",
       "    </tr>\n",
       "    <tr>\n",
       "      <th>142</th>\n",
       "      <td>1109</td>\n",
       "      <td>08/09/2015</td>\n",
       "      <td>$225.52</td>\n",
       "      <td>paid</td>\n",
       "      <td>810</td>\n",
       "      <td>110</td>\n",
       "      <td>NaN</td>\n",
       "      <td>NaN</td>\n",
       "    </tr>\n",
       "    <tr>\n",
       "      <th>143</th>\n",
       "      <td>1110</td>\n",
       "      <td>07/11/2016</td>\n",
       "      <td>$93.32</td>\n",
       "      <td>paid</td>\n",
       "      <td>211</td>\n",
       "      <td>120</td>\n",
       "      <td>NaN</td>\n",
       "      <td>NaN</td>\n",
       "    </tr>\n",
       "    <tr>\n",
       "      <th>144</th>\n",
       "      <td>1111</td>\n",
       "      <td>05/27/2016</td>\n",
       "      <td>$24.14</td>\n",
       "      <td>paid</td>\n",
       "      <td>400</td>\n",
       "      <td>101</td>\n",
       "      <td>NaN</td>\n",
       "      <td>NaN</td>\n",
       "    </tr>\n",
       "    <tr>\n",
       "      <th>145</th>\n",
       "      <td>1112</td>\n",
       "      <td>05/12/2016</td>\n",
       "      <td>$299.00</td>\n",
       "      <td>paid</td>\n",
       "      <td>822</td>\n",
       "      <td>106</td>\n",
       "      <td>NaN</td>\n",
       "      <td>NaN</td>\n",
       "    </tr>\n",
       "    <tr>\n",
       "      <th>146</th>\n",
       "      <td>1113</td>\n",
       "      <td>08/21/2015</td>\n",
       "      <td>$58.78</td>\n",
       "      <td>due</td>\n",
       "      <td>189</td>\n",
       "      <td>102</td>\n",
       "      <td>NaN</td>\n",
       "      <td>NaN</td>\n",
       "    </tr>\n",
       "    <tr>\n",
       "      <th>147</th>\n",
       "      <td>1114</td>\n",
       "      <td>08/02/2015</td>\n",
       "      <td>$367.73</td>\n",
       "      <td>paid</td>\n",
       "      <td>248</td>\n",
       "      <td>148</td>\n",
       "      <td>NaN</td>\n",
       "      <td>NaN</td>\n",
       "    </tr>\n",
       "    <tr>\n",
       "      <th>148</th>\n",
       "      <td>1115</td>\n",
       "      <td>02/03/2016</td>\n",
       "      <td>$198.25</td>\n",
       "      <td>paid</td>\n",
       "      <td>415</td>\n",
       "      <td>121</td>\n",
       "      <td>NaN</td>\n",
       "      <td>NaN</td>\n",
       "    </tr>\n",
       "    <tr>\n",
       "      <th>149</th>\n",
       "      <td>1116</td>\n",
       "      <td>11/01/2015</td>\n",
       "      <td>$260.02</td>\n",
       "      <td>paid</td>\n",
       "      <td>153</td>\n",
       "      <td>107</td>\n",
       "      <td>NaN</td>\n",
       "      <td>NaN</td>\n",
       "    </tr>\n",
       "    <tr>\n",
       "      <th>150</th>\n",
       "      <td>1117</td>\n",
       "      <td>12/19/2015</td>\n",
       "      <td>$62.85</td>\n",
       "      <td>paid</td>\n",
       "      <td>935</td>\n",
       "      <td>137</td>\n",
       "      <td>NaN</td>\n",
       "      <td>NaN</td>\n",
       "    </tr>\n",
       "    <tr>\n",
       "      <th>151</th>\n",
       "      <td>1118</td>\n",
       "      <td>06/23/2016</td>\n",
       "      <td>$100.88</td>\n",
       "      <td>paid</td>\n",
       "      <td>1098</td>\n",
       "      <td>134</td>\n",
       "      <td>NaN</td>\n",
       "      <td>NaN</td>\n",
       "    </tr>\n",
       "    <tr>\n",
       "      <th>152</th>\n",
       "      <td>1119</td>\n",
       "      <td>05/04/2016</td>\n",
       "      <td>$374.95</td>\n",
       "      <td>paid</td>\n",
       "      <td>166</td>\n",
       "      <td>123</td>\n",
       "      <td>NaN</td>\n",
       "      <td>NaN</td>\n",
       "    </tr>\n",
       "    <tr>\n",
       "      <th>153</th>\n",
       "      <td>1120</td>\n",
       "      <td>07/13/2016</td>\n",
       "      <td>$367.51</td>\n",
       "      <td>paid</td>\n",
       "      <td>1067</td>\n",
       "      <td>119</td>\n",
       "      <td>NaN</td>\n",
       "      <td>NaN</td>\n",
       "    </tr>\n",
       "    <tr>\n",
       "      <th>154</th>\n",
       "      <td>1121</td>\n",
       "      <td>06/29/2016</td>\n",
       "      <td>$137.25</td>\n",
       "      <td>paid</td>\n",
       "      <td>164</td>\n",
       "      <td>115</td>\n",
       "      <td>NaN</td>\n",
       "      <td>NaN</td>\n",
       "    </tr>\n",
       "    <tr>\n",
       "      <th>155</th>\n",
       "      <td>1122</td>\n",
       "      <td>01/15/2016</td>\n",
       "      <td>$101.01</td>\n",
       "      <td>cancelled</td>\n",
       "      <td>555</td>\n",
       "      <td>143</td>\n",
       "      <td>NaN</td>\n",
       "      <td>NaN</td>\n",
       "    </tr>\n",
       "    <tr>\n",
       "      <th>156</th>\n",
       "      <td>1123</td>\n",
       "      <td>01/16/2016</td>\n",
       "      <td>$293.10</td>\n",
       "      <td>paid</td>\n",
       "      <td>191</td>\n",
       "      <td>108</td>\n",
       "      <td>NaN</td>\n",
       "      <td>NaN</td>\n",
       "    </tr>\n",
       "  </tbody>\n",
       "</table>\n",
       "</div>"
      ],
      "text/plain": [
       "     OrderID        Date TotalDue     Status  CustomerID  SalespersonID  \\\n",
       "138     1105  05/10/2016  $158.59       paid         666            147   \n",
       "139     1106  05/23/2016  $267.98       paid         743            119   \n",
       "140     1107  07/25/2015  $332.55       paid         949            115   \n",
       "141     1108  11/19/2015  $215.83       paid         758            139   \n",
       "142     1109  08/09/2015  $225.52       paid         810            110   \n",
       "143     1110  07/11/2016   $93.32       paid         211            120   \n",
       "144     1111  05/27/2016   $24.14       paid         400            101   \n",
       "145     1112  05/12/2016  $299.00       paid         822            106   \n",
       "146     1113  08/21/2015   $58.78        due         189            102   \n",
       "147     1114  08/02/2015  $367.73       paid         248            148   \n",
       "148     1115  02/03/2016  $198.25       paid         415            121   \n",
       "149     1116  11/01/2015  $260.02       paid         153            107   \n",
       "150     1117  12/19/2015   $62.85       paid         935            137   \n",
       "151     1118  06/23/2016  $100.88       paid        1098            134   \n",
       "152     1119  05/04/2016  $374.95       paid         166            123   \n",
       "153     1120  07/13/2016  $367.51       paid        1067            119   \n",
       "154     1121  06/29/2016  $137.25       paid         164            115   \n",
       "155     1122  01/15/2016  $101.01  cancelled         555            143   \n",
       "156     1123  01/16/2016  $293.10       paid         191            108   \n",
       "\n",
       "     CustomersComment  SalespersonsComment  \n",
       "138               NaN                  NaN  \n",
       "139               NaN                  NaN  \n",
       "140               NaN                  NaN  \n",
       "141               NaN                  NaN  \n",
       "142               NaN                  NaN  \n",
       "143               NaN                  NaN  \n",
       "144               NaN                  NaN  \n",
       "145               NaN                  NaN  \n",
       "146               NaN                  NaN  \n",
       "147               NaN                  NaN  \n",
       "148               NaN                  NaN  \n",
       "149               NaN                  NaN  \n",
       "150               NaN                  NaN  \n",
       "151               NaN                  NaN  \n",
       "152               NaN                  NaN  \n",
       "153               NaN                  NaN  \n",
       "154               NaN                  NaN  \n",
       "155               NaN                  NaN  \n",
       "156               NaN                  NaN  "
      ]
     },
     "execution_count": 125,
     "metadata": {},
     "output_type": "execute_result"
    }
   ],
   "source": [
    "orders_dup = order[order.duplicated(\"OrderID\")] # find duplicated value using id\n",
    "orders_dup"
   ]
  },
  {
   "cell_type": "code",
   "execution_count": 127,
   "metadata": {},
   "outputs": [
    {
     "data": {
      "text/plain": [
       "np.int64(0)"
      ]
     },
     "execution_count": 127,
     "metadata": {},
     "output_type": "execute_result"
    }
   ],
   "source": [
    "order = order.drop_duplicates(\"OrderID\", keep='first') # drop duplicates\n",
    "order.duplicated().sum()"
   ]
  },
  {
   "cell_type": "code",
   "execution_count": 128,
   "metadata": {},
   "outputs": [
    {
     "data": {
      "text/plain": [
       "OrderID                  0\n",
       "Date                     0\n",
       "TotalDue                 0\n",
       "Status                   0\n",
       "CustomerID               0\n",
       "SalespersonID            0\n",
       "CustomersComment       200\n",
       "SalespersonsComment    200\n",
       "dtype: int64"
      ]
     },
     "execution_count": 128,
     "metadata": {},
     "output_type": "execute_result"
    }
   ],
   "source": [
    "# chekcing missing values\n",
    "order.isnull().sum()"
   ]
  },
  {
   "cell_type": "code",
   "execution_count": 129,
   "metadata": {},
   "outputs": [
    {
     "data": {
      "text/plain": [
       "OrderID                False\n",
       "Date                   False\n",
       "TotalDue               False\n",
       "Status                 False\n",
       "CustomerID             False\n",
       "SalespersonID          False\n",
       "CustomersComment        True\n",
       "SalespersonsComment     True\n",
       "dtype: bool"
      ]
     },
     "execution_count": 129,
     "metadata": {},
     "output_type": "execute_result"
    }
   ],
   "source": [
    "order.isnull().all() # find empty columns"
   ]
  },
  {
   "cell_type": "code",
   "execution_count": 130,
   "metadata": {},
   "outputs": [
    {
     "data": {
      "text/plain": [
       "Index(['OrderID', 'Date', 'TotalDue', 'Status', 'CustomerID', 'SalespersonID'], dtype='object')"
      ]
     },
     "execution_count": 130,
     "metadata": {},
     "output_type": "execute_result"
    }
   ],
   "source": [
    "# remove empty columns\n",
    "order = order.drop(columns=['CustomersComment','SalespersonsComment'])\n",
    "order.columns"
   ]
  },
  {
   "cell_type": "code",
   "execution_count": 131,
   "metadata": {},
   "outputs": [],
   "source": [
    "# save in original sheet\n",
    "order.to_excel(\"H+ Sport Orders.xlsx\", sheet_name=\"data\", index=False)"
   ]
  },
  {
   "cell_type": "markdown",
   "metadata": {},
   "source": [
    "### Step 3: Create a database\n",
    "  go to PGAdmin 4 and create database tables"
   ]
  },
  {
   "cell_type": "markdown",
   "metadata": {},
   "source": [
    "### Step 4: Load the clean data into the database"
   ]
  },
  {
   "cell_type": "code",
   "execution_count": 143,
   "metadata": {},
   "outputs": [],
   "source": [
    "# Database credentials\n",
    "username = 'postgres'\n",
    "password = '********'\n",
    "host = 'localhost'\n",
    "port = 5432\n",
    "db_name = 'H+ Sport'"
   ]
  },
  {
   "cell_type": "code",
   "execution_count": 144,
   "metadata": {},
   "outputs": [
    {
     "name": "stdout",
     "output_type": "stream",
     "text": [
      "Connection successful!\n"
     ]
    }
   ],
   "source": [
    "# Establish a connection\n",
    "engine = create_engine(f'postgresql://{username}:{password}@{host}:{port}/{db_name}')\n",
    "try:\n",
    "    with engine.connect():\n",
    "        print(\"Connection successful!\")\n",
    "except Exception as e:\n",
    "    print(f\"Connection failed: {e}\")"
   ]
  },
  {
   "cell_type": "code",
   "execution_count": 145,
   "metadata": {},
   "outputs": [],
   "source": [
    "# load the database table - Employee\n",
    "customer.to_sql('Customers', engine, if_exists='replace', index=False)\n",
    "employee.to_sql('Employees', engine, if_exists='replace', index=False)\n",
    "order.to_sql('Orders', engine, if_exists='replace', index=False)\n",
    "\n",
    "#close the connection\n",
    "engine.dispose()"
   ]
  },
  {
   "cell_type": "markdown",
   "metadata": {},
   "source": [
    "## Summary  \n",
    "\n",
    "✅ Successfully extracted customer, employee, and order data from Excel files.  \n",
    "✅ Performed necessary **data cleaning and transformation**, ensuring data consistency.  \n",
    "✅ Loaded the cleaned datasets into a **PostgreSQL database** for further analysis.  \n",
    "  \n"
   ]
  }
 ],
 "metadata": {
  "kernelspec": {
   "display_name": "Python 3",
   "language": "python",
   "name": "python3"
  },
  "language_info": {
   "codemirror_mode": {
    "name": "ipython",
    "version": 3
   },
   "file_extension": ".py",
   "mimetype": "text/x-python",
   "name": "python",
   "nbconvert_exporter": "python",
   "pygments_lexer": "ipython3",
   "version": "3.12.1"
  }
 },
 "nbformat": 4,
 "nbformat_minor": 2
}
