{
 "cells": [
  {
   "cell_type": "markdown",
   "metadata": {},
   "source": [
    "#### Introduction\n",
    "The project focuses on building an ETL (Extract, Transform, Load) pipeline using Python. It extracts data from a CSV file, performs data transformations using Pandas, and prepares it for loading into a PostgreSQL database."
   ]
  },
  {
   "cell_type": "code",
   "execution_count": 82,
   "metadata": {},
   "outputs": [],
   "source": [
    "#import libraries\n",
    "import pandas as pd # For data Extract/transformation/manipulation/wrangling/analysis, etc\n",
    "import psycopg2 # For Connecting Python to Postgresql database\n",
    "from sqlalchemy import create_engine # To efficiently manage and reuse the database connections"
   ]
  },
  {
   "cell_type": "markdown",
   "metadata": {},
   "source": [
    "### Step 1: Extract data from the .csv file into a Pandas Dataframe1"
   ]
  },
  {
   "cell_type": "code",
   "execution_count": 83,
   "metadata": {},
   "outputs": [
    {
     "data": {
      "text/html": [
       "<div>\n",
       "<style scoped>\n",
       "    .dataframe tbody tr th:only-of-type {\n",
       "        vertical-align: middle;\n",
       "    }\n",
       "\n",
       "    .dataframe tbody tr th {\n",
       "        vertical-align: top;\n",
       "    }\n",
       "\n",
       "    .dataframe thead th {\n",
       "        text-align: right;\n",
       "    }\n",
       "</style>\n",
       "<table border=\"1\" class=\"dataframe\">\n",
       "  <thead>\n",
       "    <tr style=\"text-align: right;\">\n",
       "      <th></th>\n",
       "      <th>Country/Region</th>\n",
       "      <th>Continent</th>\n",
       "      <th>Population</th>\n",
       "      <th>TotalCases</th>\n",
       "      <th>NewCases</th>\n",
       "      <th>TotalDeaths</th>\n",
       "      <th>NewDeaths</th>\n",
       "      <th>TotalRecovered</th>\n",
       "      <th>NewRecovered</th>\n",
       "      <th>ActiveCases</th>\n",
       "      <th>Serious,Critical</th>\n",
       "      <th>Tot Cases/1M pop</th>\n",
       "      <th>Deaths/1M pop</th>\n",
       "      <th>TotalTests</th>\n",
       "      <th>Tests/1M pop</th>\n",
       "      <th>WHO Region</th>\n",
       "    </tr>\n",
       "  </thead>\n",
       "  <tbody>\n",
       "    <tr>\n",
       "      <th>0</th>\n",
       "      <td>USA</td>\n",
       "      <td>North America</td>\n",
       "      <td>3.311981e+08</td>\n",
       "      <td>5032179</td>\n",
       "      <td>NaN</td>\n",
       "      <td>162804.0</td>\n",
       "      <td>NaN</td>\n",
       "      <td>2576668.0</td>\n",
       "      <td>NaN</td>\n",
       "      <td>2292707.0</td>\n",
       "      <td>18296.0</td>\n",
       "      <td>15194.0</td>\n",
       "      <td>492.0</td>\n",
       "      <td>63139605.0</td>\n",
       "      <td>190640.0</td>\n",
       "      <td>Americas</td>\n",
       "    </tr>\n",
       "    <tr>\n",
       "      <th>1</th>\n",
       "      <td>Brazil</td>\n",
       "      <td>South America</td>\n",
       "      <td>2.127107e+08</td>\n",
       "      <td>2917562</td>\n",
       "      <td>NaN</td>\n",
       "      <td>98644.0</td>\n",
       "      <td>NaN</td>\n",
       "      <td>2047660.0</td>\n",
       "      <td>NaN</td>\n",
       "      <td>771258.0</td>\n",
       "      <td>8318.0</td>\n",
       "      <td>13716.0</td>\n",
       "      <td>464.0</td>\n",
       "      <td>13206188.0</td>\n",
       "      <td>62085.0</td>\n",
       "      <td>Americas</td>\n",
       "    </tr>\n",
       "    <tr>\n",
       "      <th>2</th>\n",
       "      <td>India</td>\n",
       "      <td>Asia</td>\n",
       "      <td>1.381345e+09</td>\n",
       "      <td>2025409</td>\n",
       "      <td>NaN</td>\n",
       "      <td>41638.0</td>\n",
       "      <td>NaN</td>\n",
       "      <td>1377384.0</td>\n",
       "      <td>NaN</td>\n",
       "      <td>606387.0</td>\n",
       "      <td>8944.0</td>\n",
       "      <td>1466.0</td>\n",
       "      <td>30.0</td>\n",
       "      <td>22149351.0</td>\n",
       "      <td>16035.0</td>\n",
       "      <td>South-EastAsia</td>\n",
       "    </tr>\n",
       "    <tr>\n",
       "      <th>3</th>\n",
       "      <td>Russia</td>\n",
       "      <td>Europe</td>\n",
       "      <td>1.459409e+08</td>\n",
       "      <td>871894</td>\n",
       "      <td>NaN</td>\n",
       "      <td>14606.0</td>\n",
       "      <td>NaN</td>\n",
       "      <td>676357.0</td>\n",
       "      <td>NaN</td>\n",
       "      <td>180931.0</td>\n",
       "      <td>2300.0</td>\n",
       "      <td>5974.0</td>\n",
       "      <td>100.0</td>\n",
       "      <td>29716907.0</td>\n",
       "      <td>203623.0</td>\n",
       "      <td>Europe</td>\n",
       "    </tr>\n",
       "    <tr>\n",
       "      <th>4</th>\n",
       "      <td>South Africa</td>\n",
       "      <td>Africa</td>\n",
       "      <td>5.938157e+07</td>\n",
       "      <td>538184</td>\n",
       "      <td>NaN</td>\n",
       "      <td>9604.0</td>\n",
       "      <td>NaN</td>\n",
       "      <td>387316.0</td>\n",
       "      <td>NaN</td>\n",
       "      <td>141264.0</td>\n",
       "      <td>539.0</td>\n",
       "      <td>9063.0</td>\n",
       "      <td>162.0</td>\n",
       "      <td>3149807.0</td>\n",
       "      <td>53044.0</td>\n",
       "      <td>Africa</td>\n",
       "    </tr>\n",
       "  </tbody>\n",
       "</table>\n",
       "</div>"
      ],
      "text/plain": [
       "  Country/Region      Continent    Population  TotalCases  NewCases  \\\n",
       "0            USA  North America  3.311981e+08     5032179       NaN   \n",
       "1         Brazil  South America  2.127107e+08     2917562       NaN   \n",
       "2          India           Asia  1.381345e+09     2025409       NaN   \n",
       "3         Russia         Europe  1.459409e+08      871894       NaN   \n",
       "4   South Africa         Africa  5.938157e+07      538184       NaN   \n",
       "\n",
       "   TotalDeaths  NewDeaths  TotalRecovered  NewRecovered  ActiveCases  \\\n",
       "0     162804.0        NaN       2576668.0           NaN    2292707.0   \n",
       "1      98644.0        NaN       2047660.0           NaN     771258.0   \n",
       "2      41638.0        NaN       1377384.0           NaN     606387.0   \n",
       "3      14606.0        NaN        676357.0           NaN     180931.0   \n",
       "4       9604.0        NaN        387316.0           NaN     141264.0   \n",
       "\n",
       "   Serious,Critical  Tot Cases/1M pop  Deaths/1M pop  TotalTests  \\\n",
       "0           18296.0           15194.0          492.0  63139605.0   \n",
       "1            8318.0           13716.0          464.0  13206188.0   \n",
       "2            8944.0            1466.0           30.0  22149351.0   \n",
       "3            2300.0            5974.0          100.0  29716907.0   \n",
       "4             539.0            9063.0          162.0   3149807.0   \n",
       "\n",
       "   Tests/1M pop      WHO Region  \n",
       "0      190640.0        Americas  \n",
       "1       62085.0        Americas  \n",
       "2       16035.0  South-EastAsia  \n",
       "3      203623.0          Europe  \n",
       "4       53044.0          Africa  "
      ]
     },
     "execution_count": 83,
     "metadata": {},
     "output_type": "execute_result"
    }
   ],
   "source": [
    "#read csv file\n",
    "covid_data = pd.read_csv('worldometer_data.csv')\n",
    "covid_data.head()"
   ]
  },
  {
   "cell_type": "markdown",
   "metadata": {},
   "source": [
    "### Step 2: Transform the data(i.e clean the data)"
   ]
  },
  {
   "cell_type": "code",
   "execution_count": 84,
   "metadata": {},
   "outputs": [
    {
     "data": {
      "text/plain": [
       "np.int64(0)"
      ]
     },
     "execution_count": 84,
     "metadata": {},
     "output_type": "execute_result"
    }
   ],
   "source": [
    "# check duplicates (country names)\n",
    "covid_data.duplicated(subset=['Country/Region']).sum()"
   ]
  },
  {
   "cell_type": "code",
   "execution_count": 85,
   "metadata": {},
   "outputs": [
    {
     "data": {
      "text/plain": [
       "Index(['Country/Region', 'Continent', 'Population', 'TotalCases', 'NewCases',\n",
       "       'TotalDeaths', 'NewDeaths', 'TotalRecovered', 'NewRecovered',\n",
       "       'ActiveCases', 'Serious,Critical', 'Tot Cases/1M pop', 'Deaths/1M pop',\n",
       "       'TotalTests', 'Tests/1M pop', 'WHO Region'],\n",
       "      dtype='object')"
      ]
     },
     "execution_count": 85,
     "metadata": {},
     "output_type": "execute_result"
    }
   ],
   "source": [
    "covid_data.columns"
   ]
  },
  {
   "cell_type": "code",
   "execution_count": 86,
   "metadata": {},
   "outputs": [
    {
     "data": {
      "text/plain": [
       "(209, 16)"
      ]
     },
     "execution_count": 86,
     "metadata": {},
     "output_type": "execute_result"
    }
   ],
   "source": [
    "covid_data.shape"
   ]
  },
  {
   "cell_type": "code",
   "execution_count": 87,
   "metadata": {},
   "outputs": [],
   "source": [
    "#remove colums\n",
    "col = ['Tot Cases/1M pop', 'Deaths/1M pop','Tests/1M pop','Serious,Critical','WHO Region']\n",
    "covid_data = covid_data.drop(columns=col)"
   ]
  },
  {
   "cell_type": "code",
   "execution_count": 88,
   "metadata": {},
   "outputs": [
    {
     "data": {
      "text/plain": [
       "(209, 11)"
      ]
     },
     "execution_count": 88,
     "metadata": {},
     "output_type": "execute_result"
    }
   ],
   "source": [
    "covid_data.shape"
   ]
  },
  {
   "cell_type": "markdown",
   "metadata": {},
   "source": [
    "##### deal with  missing data"
   ]
  },
  {
   "cell_type": "code",
   "execution_count": 89,
   "metadata": {},
   "outputs": [
    {
     "data": {
      "text/plain": [
       "Country/Region      0\n",
       "Continent           1\n",
       "Population          1\n",
       "TotalCases          0\n",
       "NewCases          205\n",
       "TotalDeaths        21\n",
       "NewDeaths         206\n",
       "TotalRecovered      4\n",
       "NewRecovered      206\n",
       "ActiveCases         4\n",
       "TotalTests         18\n",
       "dtype: int64"
      ]
     },
     "execution_count": 89,
     "metadata": {},
     "output_type": "execute_result"
    }
   ],
   "source": [
    "#check missing data\n",
    "covid_data.isnull().sum()"
   ]
  },
  {
   "cell_type": "code",
   "execution_count": 90,
   "metadata": {},
   "outputs": [
    {
     "data": {
      "text/plain": [
       "Country/Region    False\n",
       "Continent         False\n",
       "Population        False\n",
       "TotalCases        False\n",
       "NewCases          False\n",
       "TotalDeaths       False\n",
       "NewDeaths         False\n",
       "TotalRecovered    False\n",
       "NewRecovered      False\n",
       "ActiveCases       False\n",
       "TotalTests        False\n",
       "dtype: bool"
      ]
     },
     "execution_count": 90,
     "metadata": {},
     "output_type": "execute_result"
    }
   ],
   "source": [
    "covid_data.isnull().all()"
   ]
  },
  {
   "cell_type": "code",
   "execution_count": 91,
   "metadata": {},
   "outputs": [],
   "source": [
    "# Drop Columns with Too Many Missing Values\n",
    "# remove NewCases ,NewDeaths,NewRecovered\n",
    "remove_col = ['NewCases','NewDeaths', 'NewRecovered']\n",
    "covid_data = covid_data.drop(columns=remove_col)"
   ]
  },
  {
   "cell_type": "code",
   "execution_count": 92,
   "metadata": {},
   "outputs": [
    {
     "data": {
      "text/plain": [
       "Index(['Country/Region', 'Continent', 'Population', 'TotalCases',\n",
       "       'TotalDeaths', 'TotalRecovered', 'ActiveCases', 'TotalTests'],\n",
       "      dtype='object')"
      ]
     },
     "execution_count": 92,
     "metadata": {},
     "output_type": "execute_result"
    }
   ],
   "source": [
    "covid_data.columns"
   ]
  },
  {
   "cell_type": "code",
   "execution_count": 93,
   "metadata": {},
   "outputs": [],
   "source": [
    "# fill the values \n",
    "# Median is useful when data is skewed or has outliers.\n",
    "# Mean is suitable when the data is more evenly distributed without extreme outliers.\n",
    "covid_data['ActiveCases']=covid_data['ActiveCases'].fillna(covid_data['ActiveCases'].median())\n",
    "covid_data['TotalTests']=covid_data['TotalTests'].fillna(covid_data['TotalTests'].median())\n",
    "covid_data['TotalRecovered']=covid_data['TotalRecovered'].fillna(covid_data['TotalRecovered'].median())\n",
    "covid_data['TotalDeaths']=covid_data['TotalDeaths'].fillna(covid_data['TotalDeaths'].mean())"
   ]
  },
  {
   "cell_type": "code",
   "execution_count": 94,
   "metadata": {},
   "outputs": [],
   "source": [
    "#remove sepesific row\n",
    "covid_data.dropna(subset=[\"Population\"], inplace=True)\n"
   ]
  },
  {
   "cell_type": "code",
   "execution_count": 95,
   "metadata": {},
   "outputs": [
    {
     "data": {
      "text/plain": [
       "Country/Region    0\n",
       "Continent         0\n",
       "Population        0\n",
       "TotalCases        0\n",
       "TotalDeaths       0\n",
       "TotalRecovered    0\n",
       "ActiveCases       0\n",
       "TotalTests        0\n",
       "dtype: int64"
      ]
     },
     "execution_count": 95,
     "metadata": {},
     "output_type": "execute_result"
    }
   ],
   "source": [
    "covid_data.isnull().sum()"
   ]
  },
  {
   "cell_type": "code",
   "execution_count": 99,
   "metadata": {},
   "outputs": [
    {
     "name": "stderr",
     "output_type": "stream",
     "text": [
      "C:\\Users\\imash\\AppData\\Local\\Temp\\ipykernel_30532\\1601712932.py:1: DeprecationWarning: DataFrameGroupBy.apply operated on the grouping columns. This behavior is deprecated, and in a future version of pandas the grouping columns will be excluded from the operation. Either pass `include_groups=False` to exclude the groupings or explicitly select the grouping columns after groupby to silence this warning.\n",
      "  covid_data=covid_data = covid_data.groupby('Continent', group_keys=False).apply(lambda x: x.sort_values('Country/Region')).reset_index(drop=True)\n"
     ]
    }
   ],
   "source": [
    "# group by using continent\n",
    "covid_data=covid_data = covid_data.groupby('Continent', group_keys=False).apply(lambda x: x.sort_values('Country/Region')).reset_index(drop=True)\n",
    "'''\n",
    "groupby('Continent', group_keys=False):\n",
    "\n",
    "groupby('Continent'): Groups the DataFrame by the 'Continent' column. This means the rows are split into different groups, each containing data for a single continent.\n",
    "group_keys=False: Ensures that the grouping column ('Continent') is not included in the result as part of a multi-level index. It keeps the output cleaner.\n",
    "apply(lambda x: x.sort_values('Country/Region')):\n",
    "\n",
    "apply(): Applies a function (in this case, a lambda function) to each group.\n",
    "lambda x: x.sort_values('Country/Region'): Defines the function that sorts the rows of each group (continent) by the 'Country/Region' column. This ensures that countries are arranged alphabetically within each continent.\n",
    "reset_index(drop=True):\n",
    "\n",
    "reset_index(): Resets the index of the resulting DataFrame.\n",
    "drop=True: Drops the old index and doesn't add it as a new column. This ensures that the final DataFrame has a fresh, sequential index starting from 0.'''"
   ]
  },
  {
   "cell_type": "code",
   "execution_count": 98,
   "metadata": {},
   "outputs": [
    {
     "data": {
      "text/html": [
       "<div>\n",
       "<style scoped>\n",
       "    .dataframe tbody tr th:only-of-type {\n",
       "        vertical-align: middle;\n",
       "    }\n",
       "\n",
       "    .dataframe tbody tr th {\n",
       "        vertical-align: top;\n",
       "    }\n",
       "\n",
       "    .dataframe thead th {\n",
       "        text-align: right;\n",
       "    }\n",
       "</style>\n",
       "<table border=\"1\" class=\"dataframe\">\n",
       "  <thead>\n",
       "    <tr style=\"text-align: right;\">\n",
       "      <th></th>\n",
       "      <th>Country/Region</th>\n",
       "      <th>Continent</th>\n",
       "      <th>Population</th>\n",
       "      <th>TotalCases</th>\n",
       "      <th>TotalDeaths</th>\n",
       "      <th>TotalRecovered</th>\n",
       "      <th>ActiveCases</th>\n",
       "      <th>TotalTests</th>\n",
       "    </tr>\n",
       "  </thead>\n",
       "  <tbody>\n",
       "    <tr>\n",
       "      <th>0</th>\n",
       "      <td>Algeria</td>\n",
       "      <td>Africa</td>\n",
       "      <td>43926079.0</td>\n",
       "      <td>33626</td>\n",
       "      <td>1273.0</td>\n",
       "      <td>23238.0</td>\n",
       "      <td>9115.0</td>\n",
       "      <td>135702.0</td>\n",
       "    </tr>\n",
       "    <tr>\n",
       "      <th>1</th>\n",
       "      <td>Angola</td>\n",
       "      <td>Africa</td>\n",
       "      <td>32956300.0</td>\n",
       "      <td>1483</td>\n",
       "      <td>64.0</td>\n",
       "      <td>520.0</td>\n",
       "      <td>899.0</td>\n",
       "      <td>64747.0</td>\n",
       "    </tr>\n",
       "    <tr>\n",
       "      <th>2</th>\n",
       "      <td>Benin</td>\n",
       "      <td>Africa</td>\n",
       "      <td>12151976.0</td>\n",
       "      <td>1936</td>\n",
       "      <td>38.0</td>\n",
       "      <td>1600.0</td>\n",
       "      <td>298.0</td>\n",
       "      <td>93677.0</td>\n",
       "    </tr>\n",
       "    <tr>\n",
       "      <th>3</th>\n",
       "      <td>Botswana</td>\n",
       "      <td>Africa</td>\n",
       "      <td>2356075.0</td>\n",
       "      <td>804</td>\n",
       "      <td>2.0</td>\n",
       "      <td>63.0</td>\n",
       "      <td>739.0</td>\n",
       "      <td>68423.0</td>\n",
       "    </tr>\n",
       "    <tr>\n",
       "      <th>4</th>\n",
       "      <td>Burkina Faso</td>\n",
       "      <td>Africa</td>\n",
       "      <td>20954852.0</td>\n",
       "      <td>1158</td>\n",
       "      <td>54.0</td>\n",
       "      <td>961.0</td>\n",
       "      <td>143.0</td>\n",
       "      <td>135702.0</td>\n",
       "    </tr>\n",
       "    <tr>\n",
       "      <th>...</th>\n",
       "      <td>...</td>\n",
       "      <td>...</td>\n",
       "      <td>...</td>\n",
       "      <td>...</td>\n",
       "      <td>...</td>\n",
       "      <td>...</td>\n",
       "      <td>...</td>\n",
       "      <td>...</td>\n",
       "    </tr>\n",
       "    <tr>\n",
       "      <th>203</th>\n",
       "      <td>Paraguay</td>\n",
       "      <td>South America</td>\n",
       "      <td>7141091.0</td>\n",
       "      <td>6375</td>\n",
       "      <td>66.0</td>\n",
       "      <td>4974.0</td>\n",
       "      <td>1335.0</td>\n",
       "      <td>135277.0</td>\n",
       "    </tr>\n",
       "    <tr>\n",
       "      <th>204</th>\n",
       "      <td>Peru</td>\n",
       "      <td>South America</td>\n",
       "      <td>33016319.0</td>\n",
       "      <td>455409</td>\n",
       "      <td>20424.0</td>\n",
       "      <td>310337.0</td>\n",
       "      <td>124648.0</td>\n",
       "      <td>2493429.0</td>\n",
       "    </tr>\n",
       "    <tr>\n",
       "      <th>205</th>\n",
       "      <td>Suriname</td>\n",
       "      <td>South America</td>\n",
       "      <td>587154.0</td>\n",
       "      <td>2096</td>\n",
       "      <td>29.0</td>\n",
       "      <td>1446.0</td>\n",
       "      <td>621.0</td>\n",
       "      <td>2785.0</td>\n",
       "    </tr>\n",
       "    <tr>\n",
       "      <th>206</th>\n",
       "      <td>Uruguay</td>\n",
       "      <td>South America</td>\n",
       "      <td>3474956.0</td>\n",
       "      <td>1318</td>\n",
       "      <td>37.0</td>\n",
       "      <td>1079.0</td>\n",
       "      <td>202.0</td>\n",
       "      <td>126956.0</td>\n",
       "    </tr>\n",
       "    <tr>\n",
       "      <th>207</th>\n",
       "      <td>Venezuela</td>\n",
       "      <td>South America</td>\n",
       "      <td>28427499.0</td>\n",
       "      <td>22299</td>\n",
       "      <td>195.0</td>\n",
       "      <td>12146.0</td>\n",
       "      <td>9958.0</td>\n",
       "      <td>1567431.0</td>\n",
       "    </tr>\n",
       "  </tbody>\n",
       "</table>\n",
       "<p>208 rows × 8 columns</p>\n",
       "</div>"
      ],
      "text/plain": [
       "    Country/Region      Continent  Population  TotalCases  TotalDeaths  \\\n",
       "0          Algeria         Africa  43926079.0       33626       1273.0   \n",
       "1           Angola         Africa  32956300.0        1483         64.0   \n",
       "2            Benin         Africa  12151976.0        1936         38.0   \n",
       "3         Botswana         Africa   2356075.0         804          2.0   \n",
       "4     Burkina Faso         Africa  20954852.0        1158         54.0   \n",
       "..             ...            ...         ...         ...          ...   \n",
       "203       Paraguay  South America   7141091.0        6375         66.0   \n",
       "204           Peru  South America  33016319.0      455409      20424.0   \n",
       "205       Suriname  South America    587154.0        2096         29.0   \n",
       "206        Uruguay  South America   3474956.0        1318         37.0   \n",
       "207      Venezuela  South America  28427499.0       22299        195.0   \n",
       "\n",
       "     TotalRecovered  ActiveCases  TotalTests  \n",
       "0           23238.0       9115.0    135702.0  \n",
       "1             520.0        899.0     64747.0  \n",
       "2            1600.0        298.0     93677.0  \n",
       "3              63.0        739.0     68423.0  \n",
       "4             961.0        143.0    135702.0  \n",
       "..              ...          ...         ...  \n",
       "203          4974.0       1335.0    135277.0  \n",
       "204        310337.0     124648.0   2493429.0  \n",
       "205          1446.0        621.0      2785.0  \n",
       "206          1079.0        202.0    126956.0  \n",
       "207         12146.0       9958.0   1567431.0  \n",
       "\n",
       "[208 rows x 8 columns]"
      ]
     },
     "execution_count": 98,
     "metadata": {},
     "output_type": "execute_result"
    }
   ],
   "source": [
    "covid_data"
   ]
  },
  {
   "cell_type": "code",
   "execution_count": 100,
   "metadata": {},
   "outputs": [],
   "source": [
    "#save origial in csv file\n",
    "covid_data.to_csv(\"worldometer_data.csv\", index=False)"
   ]
  },
  {
   "cell_type": "markdown",
   "metadata": {},
   "source": [
    "### Step 3: Create a database\n",
    "  go to PGAdmin 4 and create database tables"
   ]
  },
  {
   "cell_type": "markdown",
   "metadata": {},
   "source": [
    "### Step 4: Load the clean data into the database"
   ]
  },
  {
   "cell_type": "code",
   "execution_count": 101,
   "metadata": {},
   "outputs": [],
   "source": [
    "# Database credentials\n",
    "username = \"postgres\"\n",
    "password = \"mashi123\"\n",
    "host = \"localhost\"\n",
    "port = \"5432\"\n",
    "db_name = \"Covid19\""
   ]
  },
  {
   "cell_type": "code",
   "execution_count": 102,
   "metadata": {},
   "outputs": [
    {
     "name": "stdout",
     "output_type": "stream",
     "text": [
      "Connection successful!\n"
     ]
    }
   ],
   "source": [
    "# Establish a connection\n",
    "engine = create_engine(f'postgresql://{username}:{password}@{host}:{port}/{db_name}')\n",
    "try:\n",
    "    with engine.connect():\n",
    "        print(\"Connection successful!\")\n",
    "except Exception as e:\n",
    "    print(f\"Connection failed: {e}\")\n"
   ]
  },
  {
   "cell_type": "code",
   "execution_count": null,
   "metadata": {},
   "outputs": [],
   "source": [
    "# load the database table - Employee\n",
    "covid_data.to_sql('worldometer_data', engine, if_exists='replace', index=False)\n",
    "\n",
    "#close the connection\n",
    "engine.dispose()"
   ]
  },
  {
   "cell_type": "markdown",
   "metadata": {},
   "source": [
    "#### Summary\n",
    "##### Objective: To process and analyze COVID-19 data by implementing an ETL pipeline.\n",
    "##### Technologies Used:\n",
    "##### Pandas: For data extraction, cleaning, and transformation.\n",
    "##### psycopg2 & SQLAlchemy: For establishing database connections and loading data into PostgreSQL.\n",
    "##### Key Features:\n",
    "##### Reads and inspects raw data from worldometer_data.csv.\n",
    "##### Identifies and resolves data issues, such as duplicate entries.\n",
    "##### Identifies and resolves data issues, such as duplicate entries.\n",
    "##### Prepares the transformed data for seamless integration with a PostgreSQL database.\n",
    "##### Outcome: Successfully showcases the complete data pipeline process, integrating Python-based transformations with relational databases to ensure data accuracy and usability.\n"
   ]
  }
 ],
 "metadata": {
  "kernelspec": {
   "display_name": "Python 3",
   "language": "python",
   "name": "python3"
  },
  "language_info": {
   "codemirror_mode": {
    "name": "ipython",
    "version": 3
   },
   "file_extension": ".py",
   "mimetype": "text/x-python",
   "name": "python",
   "nbconvert_exporter": "python",
   "pygments_lexer": "ipython3",
   "version": "3.12.1"
  }
 },
 "nbformat": 4,
 "nbformat_minor": 2
}
